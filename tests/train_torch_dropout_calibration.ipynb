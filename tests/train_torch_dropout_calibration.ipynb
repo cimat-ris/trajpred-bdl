{
 "cells": [
  {
   "cell_type": "markdown",
   "metadata": {
    "id": "em2aVoafL-ML"
   },
   "source": [
    "# Para ejecutar en Google Colab en Drive"
   ]
  },
  {
   "cell_type": "code",
   "execution_count": null,
   "metadata": {
    "colab": {
     "base_uri": "https://localhost:8080/"
    },
    "id": "qJhAwN4z7jJ9",
    "outputId": "26b7e3d5-e9c1-419a-cf68-b355712fc213"
   },
   "outputs": [],
   "source": [
    "# Montamos el Drive al Notebook\n",
    "from google.colab import drive\n",
    "drive.mount('/content/drive', force_remount=True)"
   ]
  },
  {
   "cell_type": "code",
   "execution_count": null,
   "metadata": {
    "colab": {
     "base_uri": "https://localhost:8080/"
    },
    "id": "pnCMtpvc7n1s",
    "outputId": "711eec9e-be75-4eb8-fd77-c553a1e744f3"
   },
   "outputs": [],
   "source": [
    "# Verificamos el directorio en el que nos encontramos\n",
    "!pwd\n",
    "!ls"
   ]
  },
  {
   "cell_type": "code",
   "execution_count": null,
   "metadata": {
    "colab": {
     "base_uri": "https://localhost:8080/"
    },
    "id": "OoAkWfZL7oCL",
    "outputId": "b75e4020-b785-42dd-bc05-0095399e3505"
   },
   "outputs": [],
   "source": [
    "# Cambiamos de directorio al Drive\n",
    "# TODO: change path\n",
    "import os\n",
    "os.chdir(\"drive/My Drive/PruebasCOLAB4/trajpred-bdl/tests\")\n",
    "!ls"
   ]
  },
  {
   "cell_type": "code",
   "execution_count": null,
   "metadata": {
    "id": "hYovpqgdMNjU"
   },
   "outputs": [],
   "source": []
  },
  {
   "cell_type": "markdown",
   "metadata": {
    "id": "3GM2YmtlMTXp"
   },
   "source": [
    "# Inicio de Código"
   ]
  },
  {
   "cell_type": "code",
   "execution_count": null,
   "metadata": {
    "id": "2hOKb3HV6YKm"
   },
   "outputs": [],
   "source": [
    "# Imports\n",
    "import time\n",
    "import sys,os,logging, argparse\n",
    "''' TF_CPP_MIN_LOG_LEVEL\n",
    "0 = all messages are logged (default behavior)\n",
    "1 = INFO messages are not printed\n",
    "2 = INFO and WARNING messages are not printeds\n",
    "3 = INFO, WARNING, and ERROR messages are not printed\n",
    "'''\n",
    "os.environ['TF_CPP_MIN_LOG_LEVEL'] = '3'\n",
    "sys.path.append('../bayesian-torch')\n",
    "sys.path.append('../OF-PathPred')\n",
    "sys.path.append('..')\n",
    "\n",
    "import math,numpy as np\n",
    "import matplotlib.pyplot as plt\n",
    "import pandas as pd\n",
    "\n",
    "import torch\n",
    "from torchvision import transforms\n",
    "import torch.optim as optim\n",
    "\n",
    "# Local models\n",
    "from models.bayesian_models_gaussian_loss import lstm_encdec_MCDropout\n",
    "from utils.datasets_utils import Experiment_Parameters, setup_loo_experiment, traj_dataset\n",
    "from utils.plot_utils import plot_traj\n",
    "from utils.calibration import calibration\n",
    "from utils.calibration import miscalibration_area, mean_absolute_calibration_error, root_mean_squared_calibration_error"
   ]
  },
  {
   "cell_type": "code",
   "execution_count": null,
   "metadata": {
    "colab": {
     "base_uri": "https://localhost:8080/"
    },
    "id": "DWeQ9p0W0z_h",
    "outputId": "4daa0bf2-2427-49c8-9c5f-602922ba824c"
   },
   "outputs": [],
   "source": [
    "logging.basicConfig(format='%(levelname)s: %(message)s',level=20)\n",
    "# GPU\n",
    "if torch.cuda.is_available():\n",
    "    logging.info(torch.cuda.get_device_name(torch.cuda.current_device()))\n"
   ]
  },
  {
   "cell_type": "code",
   "execution_count": null,
   "metadata": {
    "id": "oYyijVou6YKq"
   },
   "outputs": [],
   "source": [
    "# Load the default parameters\n",
    "experiment_parameters = Experiment_Parameters(add_kp=False,obstacles=False)\n",
    "\n",
    "dataset_dir   = \"../OF-PathPred/datasets/\"\n",
    "dataset_names = ['eth-hotel','eth-univ','ucy-zara01','ucy-zara02','ucy-univ']\n",
    "idTest        = 2\n",
    "pickle        = False\n",
    "\n",
    "# parameters models\n",
    "num_epochs     = 20\n",
    "initial_lr     = 0.00003\n",
    "batch_size     = 64\n",
    "num_ensembles = 5\n",
    "band_train = True\n",
    "\n",
    "dropout_rate = 0.6"
   ]
  },
  {
   "cell_type": "code",
   "execution_count": null,
   "metadata": {
    "colab": {
     "base_uri": "https://localhost:8080/"
    },
    "id": "bySxfWOc6YKs",
    "outputId": "9b164915-fe44-4280-c78b-d6060d3d46d2"
   },
   "outputs": [],
   "source": [
    "# Load the dataset and perform the split\n",
    "training_data, validation_data, test_data, test_homography = setup_loo_experiment('ETH_UCY',dataset_dir,dataset_names,idTest,experiment_parameters,pickle_dir='../pickle',use_pickled_data=pickle)"
   ]
  },
  {
   "cell_type": "code",
   "execution_count": null,
   "metadata": {
    "id": "jnCdyKzuW_gI"
   },
   "outputs": [],
   "source": [
    "# Creamos el dataset para torch\n",
    "train_data = traj_dataset(training_data['obs_traj_rel'], training_data['pred_traj_rel'],training_data['obs_traj'], training_data['pred_traj'])\n",
    "val_data = traj_dataset(validation_data['obs_traj_rel'], validation_data['pred_traj_rel'],validation_data['obs_traj'], validation_data['pred_traj'])\n",
    "test_data = traj_dataset(test_data['obs_traj_rel'], test_data['pred_traj_rel'], test_data['obs_traj'], test_data['pred_traj'])"
   ]
  },
  {
   "cell_type": "code",
   "execution_count": null,
   "metadata": {
    "id": "5j23o7zkGh1A"
   },
   "outputs": [],
   "source": [
    "# Form batches\n",
    "batched_train_data = torch.utils.data.DataLoader( train_data, batch_size = batch_size, shuffle=False)\n",
    "batched_val_data =  torch.utils.data.DataLoader( val_data, batch_size = batch_size, shuffle=False)\n",
    "batched_test_data =  torch.utils.data.DataLoader( test_data, batch_size = batch_size, shuffle=False)"
   ]
  },
  {
   "cell_type": "markdown",
   "metadata": {
    "id": "bmrMVNJ8Szxi"
   },
   "source": [
    "## Entrenamos el modelo"
   ]
  },
  {
   "cell_type": "code",
   "execution_count": null,
   "metadata": {
    "id": "2g_bvInYjAJZ"
   },
   "outputs": [],
   "source": [
    "import torch.optim as optim\n",
    "\n",
    "# Función para entrenar los modelos\n",
    "def train(model):\n",
    "    # Training the Model\n",
    "    optimizer = optim.SGD(model.parameters(), lr=initial_lr)\n",
    "\n",
    "    list_loss_train = []\n",
    "    list_loss_val = []\n",
    "    for epoch in range(num_epochs):\n",
    "        # Training\n",
    "        print(\"----- \")\n",
    "        print(\"epoch: \", epoch)\n",
    "        error = 0\n",
    "        total = 0\n",
    "        # Recorremos cada batch\n",
    "        for batch_idx, (data, target, data_abs , target_abs) in enumerate(batched_train_data):\n",
    "            # Step 1. Remember that Pytorch accumulates gradients.\n",
    "            # We need to clear them out before each instance\n",
    "            model.zero_grad()\n",
    "            if torch.cuda.is_available():\n",
    "              data  = data.to(device)\n",
    "              target=target.to(device)\n",
    "              data_abs  = data_abs.to(device)\n",
    "              target_abs=target_abs.to(device)\n",
    "\n",
    "            # Step 2. Run our forward pass and compute the loss\n",
    "            loss = model(data, target, data_abs , target_abs)# , training=True)\n",
    "            error += loss\n",
    "            total += len(target)\n",
    "\n",
    "            # Step 3. Compute the gradients, and update the parameters by\n",
    "            loss.backward()\n",
    "            optimizer.step()\n",
    "        print(\"training loss: \", error/total)\n",
    "        list_loss_train.append(error.detach().cpu().numpy()/total)\n",
    "\n",
    "        # Validation\n",
    "        error = 0\n",
    "        total = 0\n",
    "        for batch_idx, (data_val, target_val, data_abs , target_abs) in enumerate(batched_val_data):\n",
    "\n",
    "            if torch.cuda.is_available():\n",
    "              data_val  = data_val.to(device)\n",
    "              target_val = target_val.to(device)\n",
    "              data_abs  = data_abs.to(device)\n",
    "              target_abs = target_abs.to(device)\n",
    "\n",
    "            loss_val = model(data_val, target_val, data_abs , target_abs)\n",
    "            error += loss_val\n",
    "            total += len(target_val)\n",
    "\n",
    "        print(\"Validation loss: \", error/total)\n",
    "        list_loss_val.append(error.detach().cpu().numpy()/total)\n",
    "\n",
    "    # Visualizamos los errores\n",
    "    plt.figure(figsize=(12,12))\n",
    "    plt.plot(list_loss_train, label=\"loss train\")\n",
    "    plt.plot(list_loss_val, label=\"loss val\")\n",
    "    plt.xlabel(\"Epochs\")\n",
    "    plt.ylabel(\"Loss\")\n",
    "    plt.legend()\n",
    "    "
   ]
  },
  {
   "cell_type": "code",
   "execution_count": null,
   "metadata": {
    "colab": {
     "base_uri": "https://localhost:8080/"
    },
    "id": "-8fxQmoXcaFl",
    "outputId": "86e22a93-9a7c-4413-a51c-e674d8451ab0"
   },
   "outputs": [],
   "source": [
    "# Model\n",
    "device = torch.device(\"cuda\" if torch.cuda.is_available() else \"cpu\")\n",
    "\n",
    "# Seleccionamos de forma aleatorea las semillas\n",
    "seeds = np.random.choice(99999999, num_ensembles , replace=False)\n",
    "print(\"Semillas: \", seeds)"
   ]
  },
  {
   "cell_type": "code",
   "execution_count": null,
   "metadata": {
    "id": "ABKqBPkGegkm"
   },
   "outputs": [],
   "source": [
    "if band_train:\n",
    "    # Entrenamos el modelo para cada semilla\n",
    "    torch.manual_seed(seed)\n",
    "    torch.cuda.manual_seed(seed)\n",
    "\n",
    "    # Instanciamos el modelo\n",
    "    model = lstm_encdec_MCDropout(2,128,256,2, dropout_rate = dropout_rate)\n",
    "    model.to(device)\n",
    "\n",
    "    # Entremamos el modelo\n",
    "    print(\"\\n*** Entrenando para seed: \", seed, \"\\t\\t \", ind, \"/\",len(seeds))\n",
    "    train(model)\n",
    "\n",
    "    plt.savefig(\"images/loss_\"+str(ind)+\"_\"+str(idTest)+\".pdf\")\n",
    "    plt.show()\n",
    "\n",
    "    # Guardamos el Modelo\n",
    "    torch.save(model.state_dict(), \"../training_checkpoints/model_dropout_\"+str(ind)+\"_\"+str(idTest)+\".pth\")\n",
    "        "
   ]
  },
  {
   "cell_type": "markdown",
   "metadata": {
    "id": "r2FLWP9F-vl5"
   },
   "source": [
    "## Visualizamos las predicciones"
   ]
  },
  {
   "cell_type": "code",
   "execution_count": null,
   "metadata": {
    "colab": {
     "base_uri": "https://localhost:8080/"
    },
    "id": "IvgA5ZYmyd5j",
    "outputId": "1d26cff5-9f0a-4422-b953-412e1507f636"
   },
   "outputs": [],
   "source": [
    "# Instanciamos el modelo\n",
    "model = lstm_encdec_MCDropout(2,128,256,2, dropout_rate = dropout_rate)\n",
    "# Cargamos el modelo\n",
    "model.load_state_dict(torch.load(\"../training_checkpoints/model_dropout_\"+str(idTest)+\".pth\"))\n",
    "model.to(device)\n",
    "model.eval()"
   ]
  },
  {
   "cell_type": "code",
   "execution_count": null,
   "metadata": {
    "colab": {
     "base_uri": "https://localhost:8080/",
     "height": 618
    },
    "id": "CefAWz7vbVOb",
    "outputId": "facd369e-1204-4ff3-87ba-56d1e5a35079"
   },
   "outputs": [],
   "source": [
    "ind_sample = 1\n",
    "bck = plt.imread(os.path.join(dataset_dir,dataset_names[idTest],'reference.png'))\n",
    "\n",
    "# Testing\n",
    "for batch_idx, (datarel_test, targetrel_test, data_test, target_test) in enumerate(batched_test_data):\n",
    "    \n",
    "    plt.figure(figsize=(12,12))\n",
    "    plt.imshow(bck)\n",
    "\n",
    "    param_gaussiana = []\n",
    "\n",
    "    # prediction\n",
    "    for ind in range(num_ensembles):\n",
    "        \n",
    "        if torch.cuda.is_available():\n",
    "              datarel_test  = datarel_test.to(device)\n",
    "\n",
    "        pred, sigmas = model.predict(datarel_test, dim_pred=12)\n",
    "\n",
    "        # ploting\n",
    "        plot_traj(pred[ind_sample,:,:], data_test[ind_sample,:,:], target_test[ind_sample,:,:], test_homography, bck)\n",
    "    plt.legend()\n",
    "    plt.title('Trajectory samples')\n",
    "    plt.show()\n",
    "    # Solo aplicamos a un elemento del batch\n",
    "    break\n"
   ]
  },
  {
   "cell_type": "markdown",
   "metadata": {
    "id": "yhC9KthP-o5K"
   },
   "source": [
    "## Calibramos la incertidumbre"
   ]
  },
  {
   "cell_type": "code",
   "execution_count": null,
   "metadata": {
    "colab": {
     "base_uri": "https://localhost:8080/",
     "height": 1000
    },
    "id": "jhkHZkV4-Jde",
    "outputId": "5ac6f28a-f639-4c4d-bb07-9f3ef67a3768"
   },
   "outputs": [],
   "source": [
    "draw_ellipse = True\n",
    "\n",
    "# Testing\n",
    "cont = 0\n",
    "for batch_idx, (datarel_test, targetrel_test, data_test, target_test) in enumerate(batched_test_data):\n",
    "    \n",
    "    tpred_samples = []\n",
    "    sigmas_samples = []\n",
    "    # Muestreamos con cada modelo\n",
    "    for ind in range(num_ensembles):\n",
    "\n",
    "        if torch.cuda.is_available():\n",
    "              datarel_test  = datarel_test.to(device)\n",
    "\n",
    "        pred, sigmas = model.predict(datarel_test, dim_pred=12)\n",
    "\n",
    "        tpred_samples.append(pred)\n",
    "        sigmas_samples.append(sigmas)\n",
    "\n",
    "    plt.show()\n",
    "    \n",
    "    tpred_samples = np.array(tpred_samples)\n",
    "    sigmas_samples = np.array(sigmas_samples)\n",
    "\n",
    "    # HDR y Calibracion\n",
    "    auc_cal, auc_unc, exp_proportions, obs_proportions_unc, obs_proportions_cal = calibration(tpred_samples, data_test, target_test, sigmas_samples, position = 11, alpha = 0.05, idTest=idTest)\n",
    "    plt.show()\n",
    "\n",
    "    # Solo se ejecuta para un batch\n",
    "    break\n"
   ]
  },
  {
   "cell_type": "markdown",
   "metadata": {
    "id": "ucqWSrlC5X7D"
   },
   "source": [
    "## Metrics Calibration"
   ]
  },
  {
   "cell_type": "code",
   "execution_count": null,
   "metadata": {
    "colab": {
     "base_uri": "https://localhost:8080/"
    },
    "id": "eyV0Niqi5XMq",
    "outputId": "ae9863d2-405b-437b-9d0d-4f3e35b5ade9"
   },
   "outputs": [],
   "source": [
    "ma1 = miscalibration_area(exp_proportions, obs_proportions_unc)\n",
    "mace1 = mean_absolute_calibration_error(exp_proportions, obs_proportions_unc)\n",
    "rmsce1 = root_mean_squared_calibration_error(exp_proportions, obs_proportions_unc)\n",
    "\n",
    "print(\"Before Recalibration:  \", end=\"\")\n",
    "print(\"MACE: {:.5f}, RMSCE: {:.5f}, MA: {:.5f}\".format(mace1, rmsce1, ma1))"
   ]
  },
  {
   "cell_type": "code",
   "execution_count": null,
   "metadata": {
    "colab": {
     "base_uri": "https://localhost:8080/"
    },
    "id": "WmLRwZKO5XQO",
    "outputId": "f84b13d9-7ec3-4834-ceba-df542a7eb95b"
   },
   "outputs": [],
   "source": [
    "ma2 = miscalibration_area(exp_proportions, obs_proportions_cal)\n",
    "mace2 = mean_absolute_calibration_error(exp_proportions, obs_proportions_cal)\n",
    "rmsce2 = root_mean_squared_calibration_error(exp_proportions, obs_proportions_cal)\n",
    "\n",
    "print(\"After Recalibration:  \", end=\"\")\n",
    "print(\"MACE: {:.5f}, RMSCE: {:.5f}, MA: {:.5f}\".format(mace2, rmsce2, ma2))"
   ]
  },
  {
   "cell_type": "code",
   "execution_count": null,
   "metadata": {
    "id": "LeLhG_hd5XTa"
   },
   "outputs": [],
   "source": [
    "df = pd.DataFrame([[\"\",\"MACE\",\"RMSCE\",\"MA\"],[\"Before Recalibration\", mace1, rmsce1, ma1],[\"After Recalibration\", mace2, rmsce2, ma2]])\n",
    "df.to_csv(\"images/metrics_calibration_\"+str(idTest)+\".csv\")"
   ]
  }
 ],
 "metadata": {
  "accelerator": "GPU",
  "colab": {
   "collapsed_sections": [],
   "name": "Cal_Tune_Calibration_deterministic3_6_versionamodificar_2.ipynb",
   "provenance": []
  },
  "kernelspec": {
   "display_name": "Python 3",
   "language": "python",
   "name": "python3"
  },
  "language_info": {
   "codemirror_mode": {
    "name": "ipython",
    "version": 3
   },
   "file_extension": ".py",
   "mimetype": "text/x-python",
   "name": "python",
   "nbconvert_exporter": "python",
   "pygments_lexer": "ipython3",
   "version": "3.7.1"
  }
 },
 "nbformat": 4,
 "nbformat_minor": 1
}
